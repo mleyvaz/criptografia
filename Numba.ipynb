{
  "nbformat": 4,
  "nbformat_minor": 0,
  "metadata": {
    "colab": {
      "name": "Numba.ipynb",
      "provenance": [],
      "authorship_tag": "ABX9TyOhfPLC5pl4Uxkju5uYVAN5",
      "include_colab_link": true
    },
    "kernelspec": {
      "name": "python3",
      "display_name": "Python 3"
    },
    "language_info": {
      "name": "python"
    }
  },
  "cells": [
    {
      "cell_type": "markdown",
      "metadata": {
        "id": "view-in-github",
        "colab_type": "text"
      },
      "source": [
        "<a href=\"https://colab.research.google.com/github/mleyvaz/criptografia/blob/main/Numba.ipynb\" target=\"_parent\"><img src=\"https://colab.research.google.com/assets/colab-badge.svg\" alt=\"Open In Colab\"/></a>"
      ]
    },
    {
      "cell_type": "markdown",
      "metadata": {
        "id": "T6MBjfLp9GdK"
      },
      "source": [
        ":\n",
        "# Numba\n",
        "\n",
        "Numba facilita la creación de funciones aceleradas. Puedes utilizarlo con el decorador numba.jit.\n"
      ]
    },
    {
      "cell_type": "code",
      "metadata": {
        "id": "oYz10bqj6WMz",
        "outputId": "72f29c23-68fe-4673-92a2-390cac732d67",
        "colab": {
          "base_uri": "https://localhost:8080/",
          "height": 381
        }
      },
      "source": [
        "import numpy as np\n",
        "import dask.array as da\n",
        "\n",
        "import matplotlib.pyplot as plt\n",
        "from numba import jit "
      ],
      "execution_count": 1,
      "outputs": [
        {
          "output_type": "error",
          "ename": "ModuleNotFoundError",
          "evalue": "ignored",
          "traceback": [
            "\u001b[0;31m---------------------------------------------------------------------------\u001b[0m",
            "\u001b[0;31mModuleNotFoundError\u001b[0m                       Traceback (most recent call last)",
            "\u001b[0;32m<ipython-input-1-51cc6aeb6463>\u001b[0m in \u001b[0;36m<module>\u001b[0;34m()\u001b[0m\n\u001b[1;32m      1\u001b[0m \u001b[0;32mimport\u001b[0m \u001b[0mnumpy\u001b[0m \u001b[0;32mas\u001b[0m \u001b[0mnp\u001b[0m\u001b[0;34m\u001b[0m\u001b[0;34m\u001b[0m\u001b[0m\n\u001b[1;32m      2\u001b[0m \u001b[0;32mimport\u001b[0m \u001b[0mdask\u001b[0m\u001b[0;34m.\u001b[0m\u001b[0marray\u001b[0m \u001b[0;32mas\u001b[0m \u001b[0mda\u001b[0m\u001b[0;34m\u001b[0m\u001b[0;34m\u001b[0m\u001b[0m\n\u001b[0;32m----> 3\u001b[0;31m \u001b[0;32mfrom\u001b[0m \u001b[0mmemory_profiler\u001b[0m \u001b[0;32mimport\u001b[0m \u001b[0mmemory_usage\u001b[0m\u001b[0;34m\u001b[0m\u001b[0;34m\u001b[0m\u001b[0m\n\u001b[0m\u001b[1;32m      4\u001b[0m \u001b[0;32mimport\u001b[0m \u001b[0mmatplotlib\u001b[0m\u001b[0;34m.\u001b[0m\u001b[0mpyplot\u001b[0m \u001b[0;32mas\u001b[0m \u001b[0mplt\u001b[0m\u001b[0;34m\u001b[0m\u001b[0;34m\u001b[0m\u001b[0m\n\u001b[1;32m      5\u001b[0m \u001b[0;32mfrom\u001b[0m \u001b[0mnumba\u001b[0m \u001b[0;32mimport\u001b[0m \u001b[0mjit\u001b[0m\u001b[0;34m\u001b[0m\u001b[0;34m\u001b[0m\u001b[0m\n",
            "\u001b[0;31mModuleNotFoundError\u001b[0m: No module named 'memory_profiler'",
            "",
            "\u001b[0;31m---------------------------------------------------------------------------\u001b[0;32m\nNOTE: If your import is failing due to a missing package, you can\nmanually install dependencies using either !pip or !apt.\n\nTo view examples of installing some common dependencies, click the\n\"Open Examples\" button below.\n\u001b[0;31m---------------------------------------------------------------------------\u001b[0m\n"
          ]
        }
      ]
    },
    {
      "cell_type": "code",
      "metadata": {
        "id": "JVVPMh1owTOi"
      },
      "source": [
        ""
      ],
      "execution_count": null,
      "outputs": []
    },
    {
      "cell_type": "code",
      "metadata": {
        "id": "cFeedIQ3wTnc"
      },
      "source": [
        ""
      ],
      "execution_count": null,
      "outputs": []
    },
    {
      "cell_type": "code",
      "metadata": {
        "id": "Mo37C--N6YlO"
      },
      "source": [
        "# Numpy\n",
        "def sum_with_numpy():\n",
        "    # Serial implementation\n",
        "    np.arange(10**7).sum()\n",
        "# Dask\n",
        "def sum_with_dask():\n",
        "    # Parallel implementation\n",
        "    work = da.arange(10**7).sum()\n",
        "    work.compute()\n",
        "# Numba \n",
        "\n",
        "@jit\n",
        "def sum_with_numba():\n",
        "    \"\"\"Compute the sum of the numbers in the range [0, a).\"\"\"\n",
        "    x = 0\n",
        "    for i in range(10**7):\n",
        "        x += i\n",
        "    return x"
      ],
      "execution_count": null,
      "outputs": []
    },
    {
      "cell_type": "code",
      "metadata": {
        "colab": {
          "base_uri": "https://localhost:8080/"
        },
        "id": "EIVSbU6M6e01",
        "outputId": "b83b47dd-d2c4-43f6-a509-05d24831f6b6"
      },
      "source": [
        "timeDask = %timeit -o  sum_with_dask()\n",
        "time = %timeit -o  sum_with_numpy()\n",
        "\n",
        "print(f\"Tiempo Dask: {timeDask.best}s\")\n",
        "\n",
        "print(f\"Tiempo numpy: {time.best:.4f}s\")\n"
      ],
      "execution_count": null,
      "outputs": [
        {
          "output_type": "stream",
          "text": [
            "100 loops, best of 5: 17.4 ms per loop\n"
          ],
          "name": "stdout"
        }
      ]
    },
    {
      "cell_type": "markdown",
      "metadata": {
        "id": "fEEWKMRW9KBa"
      },
      "source": [
        "# Ejercicio 1 y calcule tiempo de ejecución  de la función utilizando numba \n",
        "\n"
      ]
    },
    {
      "cell_type": "markdown",
      "metadata": {
        "id": "bHSMazgyDl-f"
      },
      "source": [
        "## @njit\n",
        "Para un mejor rendimiento, numba recomienda utilizar el argumento nopython = True con su envoltura jit, con el que no utilizará el intérprete de Python en absoluto. O también puedes usar @njit también\n",
        "## Numba paralela \n",
        "Al establecer la opción paralela para jit() o nji() t se habilita un pase de transformación de Numba que intenta paralelizar automáticamente y realizar otras optimizaciones en (parte de) una función. "
      ]
    },
    {
      "cell_type": "code",
      "metadata": {
        "id": "IVh1SgJZDoHC",
        "colab": {
          "base_uri": "https://localhost:8080/",
          "height": 132
        },
        "outputId": "dc065831-e821-43f1-9d45-edddda555250"
      },
      "source": [
        "\n",
        "@jit(nopython=True, parallel=True)\n",
        "def trace_numba_parallel(a):\n",
        "    trace = 0.0\n",
        "    for i in range(a.shape[0]):\n",
        "        trace += a[i, i] \n",
        "    return a + trace  \n",
        "large_x = np.arange(1000000).reshape(1000, 1000)\n",
        "\n",
        "\n",
        "trace_numba_parallel(large_x)\n",
        "\n",
        "\n"
      ],
      "execution_count": null,
      "outputs": [
        {
          "output_type": "error",
          "ename": "IndentationError",
          "evalue": "ignored",
          "traceback": [
            "\u001b[0;36m  File \u001b[0;32m\"<ipython-input-2-622648c77080>\"\u001b[0;36m, line \u001b[0;32m11\u001b[0m\n\u001b[0;31m    trace_numba_parallel(large_x)\u001b[0m\n\u001b[0m    ^\u001b[0m\n\u001b[0;31mIndentationError\u001b[0m\u001b[0;31m:\u001b[0m unexpected indent\n"
          ]
        }
      ]
    },
    {
      "cell_type": "markdown",
      "metadata": {
        "id": "wBkk6BjtIjI_"
      },
      "source": [
        "Ejercicio Compare  el tiempo de ejecucion de la anterior funcion para arreglo  de 1000x1000\n",
        "\n",
        "* 2-Numba @jit\n",
        "* 3-Numba @jit(nopython=True)\n",
        "* 4-@jit(nopython=True, parallel=True)"
      ]
    },
    {
      "cell_type": "code",
      "metadata": {
        "id": "Io5rehk1InJX"
      },
      "source": [
        ""
      ],
      "execution_count": null,
      "outputs": []
    }
  ]
}