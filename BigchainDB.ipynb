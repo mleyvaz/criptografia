{
  "nbformat": 4,
  "nbformat_minor": 0,
  "metadata": {
    "colab": {
      "name": "BigchainDB.ipynb",
      "provenance": [],
      "authorship_tag": "ABX9TyN0SHm1mQtO4C+mQLdJ2XED",
      "include_colab_link": true
    },
    "kernelspec": {
      "name": "python3",
      "display_name": "Python 3"
    },
    "language_info": {
      "name": "python"
    }
  },
  "cells": [
    {
      "cell_type": "markdown",
      "metadata": {
        "id": "view-in-github",
        "colab_type": "text"
      },
      "source": [
        "<a href=\"https://colab.research.google.com/github/mleyvaz/criptografia/blob/main/BigchainDB.ipynb\" target=\"_parent\"><img src=\"https://colab.research.google.com/assets/colab-badge.svg\" alt=\"Open In Colab\"/></a>"
      ]
    },
    {
      "cell_type": "code",
      "metadata": {
        "id": "gjV6-fJMYaOL"
      },
      "source": [
        "pip install -U bigchaindb-driver"
      ],
      "execution_count": null,
      "outputs": []
    },
    {
      "cell_type": "markdown",
      "metadata": {
        "id": "FArZqedxYtVw"
      },
      "source": [
        "# Utilizar Driver "
      ]
    },
    {
      "cell_type": "code",
      "metadata": {
        "id": "HQJeNengYsbG"
      },
      "source": [
        "from bigchaindb_driver import BigchainDB\n",
        "\n",
        "conn = BigchainDB('https://test.ipdb.io')"
      ],
      "execution_count": null,
      "outputs": []
    },
    {
      "cell_type": "markdown",
      "metadata": {
        "id": "Cd_TqQDwZA5R"
      },
      "source": [
        "# Generación de identidades criptográficas\n",
        "La clave privada se usa para firmar transacciones, mientras que la clave pública se usa para verificar que una transacción firmada fue realmente firmada por quien dice ser el firmante."
      ]
    },
    {
      "cell_type": "code",
      "metadata": {
        "id": "r3pjZhzRY5da"
      },
      "source": [
        "from bigchaindb_driver.crypto import generate_keypair\n",
        "\n",
        "alice = generate_keypair()"
      ],
      "execution_count": null,
      "outputs": []
    },
    {
      "cell_type": "markdown",
      "metadata": {
        "id": "MBRjPg7_ZK8Q"
      },
      "source": [
        "# Crear un activo digital"
      ]
    },
    {
      "cell_type": "code",
      "metadata": {
        "id": "veQBBvLYcCxT"
      },
      "source": [
        "bicycle = {\n",
        "'data': {\n",
        "  'bicycle': {\n",
        " 'serial_number': 'abcd1234',\n",
        " 'manufacturer': 'bkfab',\n",
        " },\n",
        " },\n",
        "}"
      ],
      "execution_count": null,
      "outputs": []
    },
    {
      "cell_type": "code",
      "metadata": {
        "id": "C62cxjbTbmIz"
      },
      "source": [
        "prepared_creation_tx = conn.transactions.prepare(operation='CREATE', signers=alice.public_key, asset=bicycle )"
      ],
      "execution_count": null,
      "outputs": []
    },
    {
      "cell_type": "code",
      "metadata": {
        "id": "xmQVet33ZMrV"
      },
      "source": [
        "prepared_creation_tx"
      ],
      "execution_count": null,
      "outputs": []
    },
    {
      "cell_type": "markdown",
      "metadata": {
        "id": "rp5weP5CcxyV"
      },
      "source": [
        "La transacción ahora debe completarse firmándola con la clave privada de Alice"
      ]
    },
    {
      "cell_type": "code",
      "metadata": {
        "id": "NJLRFlYPc0Fb"
      },
      "source": [
        "fulfilled_creation_tx = conn.transactions.fulfill( prepared_creation_tx, private_keys=alice.private_key)"
      ],
      "execution_count": null,
      "outputs": []
    },
    {
      "cell_type": "markdown",
      "metadata": {
        "id": "yfycSOwJdIm0"
      },
      "source": [
        "Enviado a un nodo BigchainDB"
      ]
    },
    {
      "cell_type": "code",
      "metadata": {
        "id": "Dhf_ug9AdKzU"
      },
      "source": [
        "sent_creation_tx = conn.transactions.send_commit(fulfilled_creation_tx)"
      ],
      "execution_count": null,
      "outputs": []
    },
    {
      "cell_type": "code",
      "metadata": {
        "id": "t-UiSnmvdczA"
      },
      "source": [
        "sent_creation_tx == fulfilled_creation_tx"
      ],
      "execution_count": null,
      "outputs": []
    },
    {
      "cell_type": "markdown",
      "metadata": {
        "id": "97i6glwtdkTa"
      },
      "source": [
        "Verificar id de la trasaccion"
      ]
    },
    {
      "cell_type": "code",
      "metadata": {
        "id": "oSk9PbK7djfx"
      },
      "source": [
        "txid = fulfilled_creation_tx['id']\n",
        "txid"
      ],
      "execution_count": null,
      "outputs": []
    },
    {
      "cell_type": "markdown",
      "metadata": {
        "id": "Oam4JZ4Rd1TT"
      },
      "source": [
        "Ejercucio crear un certificado digital de un obra de arte del Pintor Ecuatoriano Os , ejemplo \n",
        "const painting = {\n",
        "    name: 'Meninas',\n",
        "    author: 'Diego Rodríguez de Silva y Velázquez',\n",
        "    place: 'Madrid',\n",
        "    year: '1656'\n",
        "}"
      ]
    }
  ]
}