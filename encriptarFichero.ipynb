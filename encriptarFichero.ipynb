{
  "nbformat": 4,
  "nbformat_minor": 0,
  "metadata": {
    "colab": {
      "name": "encriptarFichero.ipynb",
      "provenance": [],
      "authorship_tag": "ABX9TyPR4tKwOTj6LVXm6KQHtC8o",
      "include_colab_link": true
    },
    "kernelspec": {
      "name": "python3",
      "display_name": "Python 3"
    }
  },
  "cells": [
    {
      "cell_type": "markdown",
      "metadata": {
        "id": "view-in-github",
        "colab_type": "text"
      },
      "source": [
        "<a href=\"https://colab.research.google.com/github/mleyvaz/criptografia/blob/main/encriptarFichero.ipynb\" target=\"_parent\"><img src=\"https://colab.research.google.com/assets/colab-badge.svg\" alt=\"Open In Colab\"/></a>"
      ]
    },
    {
      "cell_type": "code",
      "metadata": {
        "id": "00lE1JPgofUn"
      },
      "source": [
        "pip install cryptography"
      ],
      "execution_count": null,
      "outputs": []
    },
    {
      "cell_type": "code",
      "metadata": {
        "id": "DsSZWUf-oplA"
      },
      "source": [
        "from cryptography.fernet import Fernet"
      ],
      "execution_count": null,
      "outputs": []
    },
    {
      "cell_type": "code",
      "metadata": {
        "id": "BBcdU66MINrU"
      },
      "source": [
        "from google.colab import drive\r\n",
        "drive.mount(\"/content/gdrive\")\r\n"
      ],
      "execution_count": null,
      "outputs": []
    },
    {
      "cell_type": "code",
      "metadata": {
        "id": "074CCYdDmlz7"
      },
      "source": [
        "%ls"
      ],
      "execution_count": null,
      "outputs": []
    },
    {
      "cell_type": "code",
      "metadata": {
        "id": "E5lWmTlPnb0R"
      },
      "source": [
        "from google.colab import files\r\n",
        "files.upload()"
      ],
      "execution_count": null,
      "outputs": []
    },
    {
      "cell_type": "code",
      "metadata": {
        "id": "43G5HhyXmwnN"
      },
      "source": [
        "f = open(\"test.txt\").read()"
      ],
      "execution_count": null,
      "outputs": []
    },
    {
      "cell_type": "code",
      "metadata": {
        "id": "hWSEv7J5pFn4"
      },
      "source": [
        "# Generating the key and writing it to a file\r\n",
        "def genwrite_key():\r\n",
        "    key = Fernet.generate_key()\r\n",
        "    with open(\"pass.key\", \"wb\") as key_file:\r\n",
        "        key_file.write(key)\r\n",
        "genwrite_key()\r\n",
        "def call_key():\r\n",
        "  return open(\"pass.key\", \"rb\").read()\r\n",
        "%ls"
      ],
      "execution_count": null,
      "outputs": []
    },
    {
      "cell_type": "code",
      "metadata": {
        "id": "NwceeYF4nPFW"
      },
      "source": [
        "key = call_key()\r\n",
        "slogan =bytes(f)\r\n",
        "a = Fernet(key)\r\n",
        "coded_slogan = a.encrypt(slogan)\r\n",
        "print(coded_slogan)"
      ],
      "execution_count": null,
      "outputs": []
    }
  ]
}