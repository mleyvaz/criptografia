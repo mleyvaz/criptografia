{
  "nbformat": 4,
  "nbformat_minor": 0,
  "metadata": {
    "colab": {
      "name": "Criptografía_Visual.ipynb",
      "provenance": [],
      "collapsed_sections": [],
      "authorship_tag": "ABX9TyMVodmzvJiKaXrKhy+Xlsxh",
      "include_colab_link": true
    },
    "kernelspec": {
      "display_name": "Python 3",
      "name": "python3"
    }
  },
  "cells": [
    {
      "cell_type": "markdown",
      "metadata": {
        "id": "view-in-github",
        "colab_type": "text"
      },
      "source": [
        "<a href=\"https://colab.research.google.com/github/mleyvaz/criptografia/blob/main/Ejercicio2.ipynb\" target=\"_parent\"><img src=\"https://colab.research.google.com/assets/colab-badge.svg\" alt=\"Open In Colab\"/></a>"
      ]
    },
    {
      "cell_type": "code",
      "metadata": {
        "id": "pY2qkm0UIiL_"
      },
      "source": [
        "#Librerias \n",
        "import numpy as np\n",
        "import pandas as pd\n",
        "import cv2  \n",
        "from google.colab.patches import cv2_imshow # for image display\n",
        "from skimage import io\n",
        "from PIL import Image \n",
        "import matplotlib.pylab as plt"
      ],
      "execution_count": 1,
      "outputs": []
    },
    {
      "cell_type": "code",
      "metadata": {
        "id": "tv8HXl-4oinp"
      },
      "source": [
        ""
      ],
      "execution_count": 1,
      "outputs": []
    },
    {
      "cell_type": "markdown",
      "metadata": {
        "id": "K_um7W1KhOCU"
      },
      "source": [
        "Ejercicio 1 Realice las operaciones lógics sobre las siguinetes imágenes"
      ]
    },
    {
      "cell_type": "code",
      "metadata": {
        "id": "EhLwEpAIbeTI"
      },
      "source": [
        "img1 = np.zeros((400,600), dtype=np.uint8)\n",
        "img1[100:300,200:400] = 255\n",
        "img2 = np.zeros((400,600), dtype=np.uint8)\n",
        "img2 = cv2.circle(img2,(300,200),125,(255),-1)\n",
        "img3=cv2.bitwise_and(img1,img2)"
      ],
      "execution_count": 5,
      "outputs": []
    },
    {
      "cell_type": "code",
      "metadata": {
        "id": "a03BBy9YhDZd",
        "colab": {
          "base_uri": "https://localhost:8080/",
          "height": 816
        },
        "outputId": "ccac92ce-454f-478d-a485-b6c5d784bb6a"
      },
      "source": [
        "cv2_imshow(img1)\n",
        "cv2_imshow(img3)"
      ],
      "execution_count": 6,
      "outputs": [
        {
          "output_type": "display_data",
          "data": {
            "image/png": "[encoded data removed]",
            "text/plain": [
              "<PIL.Image.Image image mode=L size=600x400 at 0x7FEC553DA690>"
            ]
          },
          "metadata": {
            "tags": []
          }
        },
        {
          "output_type": "display_data",
          "data": {
            "image/png": "[encoded data removed]",
            "text/plain": [
              "<PIL.Image.Image image mode=L size=600x400 at 0x7FEC5534ED10>"
            ]
          },
          "metadata": {
            "tags": []
          }
        }
      ]
    },
    {
      "cell_type": "code",
      "metadata": {
        "id": "MVpSdV3xhf4F"
      },
      "source": [
        "\n",
        "\n",
        "\n",
        "\n"
      ],
      "execution_count": null,
      "outputs": []
    },
    {
      "cell_type": "markdown",
      "metadata": {
        "id": "FFscN8p1tH_v"
      },
      "source": [
        "\n",
        "Ejercicio 1 realice un patron de encriptacion con XOR con img3 como clave\n"
      ]
    },
    {
      "cell_type": "code",
      "metadata": {
        "id": "_fWF8Vc1lM1O"
      },
      "source": [
        "\n"
      ],
      "execution_count": null,
      "outputs": []
    }
  ]
}