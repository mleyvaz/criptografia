{
  "nbformat": 4,
  "nbformat_minor": 0,
  "metadata": {
    "colab": {
      "name": "Cryptography.ipynb",
      "provenance": [],
      "authorship_tag": "ABX9TyPAcPDqSfyIXKvqINyh5KbP",
      "include_colab_link": true
    },
    "kernelspec": {
      "name": "python3",
      "display_name": "Python 3"
    }
  },
  "cells": [
    {
      "cell_type": "markdown",
      "metadata": {
        "id": "view-in-github",
        "colab_type": "text"
      },
      "source": [
        "<a href=\"https://colab.research.google.com/github/mleyvaz/criptografia/blob/main/Cryptography.ipynb\" target=\"_parent\"><img src=\"https://colab.research.google.com/assets/colab-badge.svg\" alt=\"Open In Colab\"/></a>"
      ]
    },
    {
      "cell_type": "code",
      "metadata": {
        "colab": {
          "base_uri": "https://localhost:8080/"
        },
        "id": "po1gEIaZS4fv",
        "outputId": "fa5d987f-5eaa-4ce8-94f7-6c437f7f706e"
      },
      "source": [
        "pip install cryptography"
      ],
      "execution_count": 1,
      "outputs": [
        {
          "output_type": "stream",
          "text": [
            "Collecting cryptography\n",
            "\u001b[?25l  Downloading https://files.pythonhosted.org/packages/a6/a1/49543f8ae3165c598e6c1393c54f9af8eaf7111f86e769ab4b897cdcf096/cryptography-3.4.4-cp36-abi3-manylinux2014_x86_64.whl (3.2MB)\n",
            "\u001b[K     |████████████████████████████████| 3.2MB 9.3MB/s \n",
            "\u001b[?25hRequirement already satisfied: cffi>=1.12 in /usr/local/lib/python3.6/dist-packages (from cryptography) (1.14.4)\n",
            "Requirement already satisfied: pycparser in /usr/local/lib/python3.6/dist-packages (from cffi>=1.12->cryptography) (2.20)\n",
            "Installing collected packages: cryptography\n",
            "Successfully installed cryptography-3.4.4\n"
          ],
          "name": "stdout"
        }
      ]
    },
    {
      "cell_type": "markdown",
      "metadata": {
        "id": "eGTYCtFRTAyF"
      },
      "source": [
        "#Importar la librería"
      ]
    },
    {
      "cell_type": "code",
      "metadata": {
        "id": "oA5s_IXgTCH3"
      },
      "source": [
        "from cryptography.fernet import Fernet"
      ],
      "execution_count": 2,
      "outputs": []
    },
    {
      "cell_type": "markdown",
      "metadata": {
        "id": "cnCwa6gnTIUS"
      },
      "source": [
        "Generar la clave"
      ]
    },
    {
      "cell_type": "code",
      "metadata": {
        "colab": {
          "base_uri": "https://localhost:8080/"
        },
        "id": "i8eOF71WS9YN",
        "outputId": "21a706e3-8738-4990-9fac-1de0dd01402f"
      },
      "source": [
        "# Generating the key and writing it to a file\r\n",
        "def genwrite_key():\r\n",
        "    key = Fernet.generate_key()\r\n",
        "    with open(\"pass.key\", \"wb\") as key_file:\r\n",
        "        key_file.write(key)\r\n",
        "genwrite_key()\r\n",
        "%ls"
      ],
      "execution_count": 15,
      "outputs": [
        {
          "output_type": "stream",
          "text": [
            "pass.key  \u001b[0m\u001b[01;34msample_data\u001b[0m/\n"
          ],
          "name": "stdout"
        }
      ]
    },
    {
      "cell_type": "markdown",
      "metadata": {
        "id": "0F0d4ZtWTXCm"
      },
      "source": [
        "# Cargar Clave"
      ]
    },
    {
      "cell_type": "code",
      "metadata": {
        "id": "XoUkCY-hTdcK"
      },
      "source": [
        "def call_key():\r\n",
        "  return open(\"pass.key\", \"rb\").read()"
      ],
      "execution_count": 16,
      "outputs": []
    },
    {
      "cell_type": "markdown",
      "metadata": {
        "id": "E1Wt3mrwTlTE"
      },
      "source": [
        "# Encriptar datos"
      ]
    },
    {
      "cell_type": "code",
      "metadata": {
        "colab": {
          "base_uri": "https://localhost:8080/"
        },
        "id": "Zc4JG27DTngA",
        "outputId": "1c7e56cc-6fe2-48b6-b853-4856e8a72248"
      },
      "source": [
        "key = call_key()\r\n",
        "slogan = \"Hello!! Welcome to AIM!!\".encode()\r\n",
        "a = Fernet(key)\r\n",
        "coded_slogan = a.encrypt(slogan)\r\n",
        "print(coded_slogan)"
      ],
      "execution_count": 17,
      "outputs": [
        {
          "output_type": "stream",
          "text": [
            "b'gAAAAABgJbaikA9jjRHl6uLDixfn46ZoVTWuDjFgUdyGAH_bmZgJBXc9ZG_U3R8N9J7letoTNSyz2RAVJoiloZoSam17AuIoaRc_lJD5cqrGxRKABkJbXR0='\n"
          ],
          "name": "stdout"
        }
      ]
    },
    {
      "cell_type": "markdown",
      "metadata": {
        "id": "yN4FKYoSUdLA"
      },
      "source": [
        "# Desencriptar Datos"
      ]
    },
    {
      "cell_type": "code",
      "metadata": {
        "colab": {
          "base_uri": "https://localhost:8080/"
        },
        "id": "lXgF7yW1UlOD",
        "outputId": "c983a5d7-0fb2-415f-c898-b219ea655286"
      },
      "source": [
        "key = call_key()\r\n",
        "b = Fernet(key)\r\n",
        "decoded_slogan = b.decrypt(coded_slogan)\r\n",
        "print(decoded_slogan)\r\n"
      ],
      "execution_count": 18,
      "outputs": [
        {
          "output_type": "stream",
          "text": [
            "b'Hello!! Welcome to AIM!!'\n"
          ],
          "name": "stdout"
        }
      ]
    },
    {
      "cell_type": "markdown",
      "metadata": {
        "id": "oFwizP90WnW7"
      },
      "source": [
        "# Asimétrica"
      ]
    },
    {
      "cell_type": "code",
      "metadata": {
        "id": "qyoghDeuWppa"
      },
      "source": [
        "import cryptography\r\n",
        "from cryptography.hazmat.backends import default_backend\r\n",
        "from cryptography.hazmat.primitives.asymmetric import rsa\r\n",
        "from cryptography.hazmat.primitives import serialization"
      ],
      "execution_count": 19,
      "outputs": []
    },
    {
      "cell_type": "markdown",
      "metadata": {
        "id": "TvTC80bqWzN5"
      },
      "source": [
        "Generar la clave"
      ]
    },
    {
      "cell_type": "code",
      "metadata": {
        "id": "e4yMifXkWmuw"
      },
      "source": [
        "private_key = rsa.generate_private_key(\r\n",
        "    public_exponent=65537,\r\n",
        "    key_size=2048,\r\n",
        "    backend=default_backend()\r\n",
        ")\r\n",
        "public_key = private_key.public_key()"
      ],
      "execution_count": 20,
      "outputs": []
    },
    {
      "cell_type": "markdown",
      "metadata": {
        "id": "Ycq1ma6YW2Ly"
      },
      "source": [
        "Guardar Clave"
      ]
    },
    {
      "cell_type": "code",
      "metadata": {
        "colab": {
          "base_uri": "https://localhost:8080/"
        },
        "id": "GMD0fVOPW3fM",
        "outputId": "94615d87-3728-4945-e052-27e858ef0044"
      },
      "source": [
        "# private key\r\n",
        "serial_private = private_key.private_bytes(\r\n",
        "    encoding=serialization.Encoding.PEM,\r\n",
        "    format=serialization.PrivateFormat.PKCS8,\r\n",
        "    encryption_algorithm=serialization.NoEncryption()\r\n",
        ")\r\n",
        "with open('private_noshare.pem', 'wb') as f: f.write(serial_private)\r\n",
        "    \r\n",
        "# public key\r\n",
        "serial_pub = public_key.public_bytes(\r\n",
        "    encoding=serialization.Encoding.PEM,\r\n",
        "    format=serialization.PublicFormat.SubjectPublicKeyInfo\r\n",
        ")\r\n",
        "with open('public_shared.pem', 'wb') as f: f.write(serial_pub)\r\n",
        "%ls"
      ],
      "execution_count": 22,
      "outputs": [
        {
          "output_type": "stream",
          "text": [
            "pass.key  private_noshare.pem  public_shared.pem  \u001b[0m\u001b[01;34msample_data\u001b[0m/\n"
          ],
          "name": "stdout"
        }
      ]
    },
    {
      "cell_type": "markdown",
      "metadata": {
        "id": "gBO1lXDXW_YC"
      },
      "source": [
        "Leer claves"
      ]
    },
    {
      "cell_type": "code",
      "metadata": {
        "id": "InO7EoImXBYv"
      },
      "source": [
        "# make sure the following are imported\r\n",
        "# from cryptography.hazmat.backends import default_backend\r\n",
        "# from cryptography.hazmat.primitives import serialization\r\n",
        "#########      Private device only    ##########\r\n",
        "def read_private (filename = \"private_noshare.pem\"):\r\n",
        "    with open(filename, \"rb\") as key_file:\r\n",
        "        private_key = serialization.load_pem_private_key(\r\n",
        "            key_file.read(),\r\n",
        "            password=None,\r\n",
        "            backend=default_backend()\r\n",
        "        )\r\n",
        "    return private_key\r\n",
        "                  \r\n",
        "######### Public (shared) device only ##########\r\n",
        "def read_public (filename = \"public_shared.pem\"):\r\n",
        "    with open(\"public_shared.pem\", \"rb\") as key_file:\r\n",
        "        public_key = serialization.load_pem_public_key(\r\n",
        "            key_file.read(),\r\n",
        "            backend=default_backend()\r\n",
        "        )\r\n",
        "    return public_key"
      ],
      "execution_count": 25,
      "outputs": []
    },
    {
      "cell_type": "markdown",
      "metadata": {
        "id": "a93UN-M0XM0k"
      },
      "source": [
        "Encriptar"
      ]
    },
    {
      "cell_type": "code",
      "metadata": {
        "colab": {
          "base_uri": "https://localhost:8080/"
        },
        "id": "UnmeWv-dXMP8",
        "outputId": "35a2bd04-23d7-4fa1-a553-84f654fb5c2f"
      },
      "source": [
        "# make sure the following are imported\r\n",
        "from cryptography.hazmat.primitives import hashes\r\n",
        "from cryptography.hazmat.primitives.asymmetric import padding\r\n",
        "######### Public (shared) device only #########\r\n",
        "data = [b'My secret weight', b'My secret id']\r\n",
        "public_key = read_public()\r\n",
        "open('test.txt', \"wb\").close() # clear file\r\n",
        "for encode in data:\r\n",
        "    \r\n",
        "    encrypted = public_key.encrypt(\r\n",
        "        encode,\r\n",
        "        padding.OAEP(\r\n",
        "            mgf=padding.MGF1(algorithm=hashes.SHA256()),\r\n",
        "            algorithm=hashes.SHA256(),\r\n",
        "            label=None\r\n",
        "        )\r\n",
        "    )\r\n",
        "    \r\n",
        "    with open('test.txt', \"ab\") as f: f.write(encrypted)\r\n",
        "    %ls"
      ],
      "execution_count": 48,
      "outputs": [
        {
          "output_type": "stream",
          "text": [
            "b'My secret weight'\n",
            "pass.key  private_noshare.pem  public_shared.pem  \u001b[0m\u001b[01;34msample_data\u001b[0m/  test.txt\n",
            "b'My secret id'\n",
            "pass.key  private_noshare.pem  public_shared.pem  \u001b[0m\u001b[01;34msample_data\u001b[0m/  test.txt\n"
          ],
          "name": "stdout"
        }
      ]
    }
  ]
}